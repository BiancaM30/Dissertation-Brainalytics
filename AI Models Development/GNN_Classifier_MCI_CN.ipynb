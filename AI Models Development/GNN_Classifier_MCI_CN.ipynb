{
 "cells": [
  {
   "cell_type": "code",
   "execution_count": 1,
   "id": "a9d61375",
   "metadata": {
    "execution": {
     "iopub.execute_input": "2025-03-18T17:52:53.474904Z",
     "iopub.status.busy": "2025-03-18T17:52:53.474529Z",
     "iopub.status.idle": "2025-03-18T17:53:20.656890Z",
     "shell.execute_reply": "2025-03-18T17:53:20.655918Z"
    },
    "id": "gaGPAfJuvQml",
    "outputId": "ea02d276-fad2-4bab-ff40-d1c3028c3f66",
    "papermill": {
     "duration": 27.189014,
     "end_time": "2025-03-18T17:53:20.658639",
     "exception": false,
     "start_time": "2025-03-18T17:52:53.469625",
     "status": "completed"
    },
    "tags": []
   },
   "outputs": [
    {
     "name": "stdout",
     "output_type": "stream",
     "text": [
      "\u001b[33mWARNING: Skipping torch-scatter as it is not installed.\u001b[0m\u001b[33m\r\n",
      "\u001b[0m\u001b[33mWARNING: Skipping torch-sparse as it is not installed.\u001b[0m\u001b[33m\r\n",
      "\u001b[0m\u001b[33mWARNING: Skipping torch-geometric as it is not installed.\u001b[0m\u001b[33m\r\n",
      "\u001b[0m\u001b[33mWARNING: Skipping torch-cluster as it is not installed.\u001b[0m\u001b[33m\r\n",
      "\u001b[0mLooking in links: https://data.pyg.org/whl/torch-2.5.1+cu121.html\r\n",
      "Collecting torch-scatter\r\n",
      "  Downloading https://data.pyg.org/whl/torch-2.5.0%2Bcu121/torch_scatter-2.1.2%2Bpt25cu121-cp310-cp310-linux_x86_64.whl (10.9 MB)\r\n",
      "\u001b[2K     \u001b[90m━━━━━━━━━━━━━━━━━━━━━━━━━━━━━━━━━━━━━━━━\u001b[0m \u001b[32m10.9/10.9 MB\u001b[0m \u001b[31m100.0 MB/s\u001b[0m eta \u001b[36m0:00:00\u001b[0m\r\n",
      "\u001b[?25hInstalling collected packages: torch-scatter\r\n",
      "Successfully installed torch-scatter-2.1.2+pt25cu121\r\n",
      "Looking in links: https://data.pyg.org/whl/torch-2.5.1+cu121.html\r\n",
      "Collecting torch-sparse\r\n",
      "  Downloading https://data.pyg.org/whl/torch-2.5.0%2Bcu121/torch_sparse-0.6.18%2Bpt25cu121-cp310-cp310-linux_x86_64.whl (5.1 MB)\r\n",
      "\u001b[2K     \u001b[90m━━━━━━━━━━━━━━━━━━━━━━━━━━━━━━━━━━━━━━━━\u001b[0m \u001b[32m5.1/5.1 MB\u001b[0m \u001b[31m51.7 MB/s\u001b[0m eta \u001b[36m0:00:00\u001b[0m\r\n",
      "\u001b[?25hRequirement already satisfied: scipy in /usr/local/lib/python3.10/dist-packages (from torch-sparse) (1.13.1)\r\n",
      "Requirement already satisfied: numpy<2.3,>=1.22.4 in /usr/local/lib/python3.10/dist-packages (from scipy->torch-sparse) (1.26.4)\r\n",
      "Requirement already satisfied: mkl_fft in /usr/local/lib/python3.10/dist-packages (from numpy<2.3,>=1.22.4->scipy->torch-sparse) (1.3.8)\r\n",
      "Requirement already satisfied: mkl_random in /usr/local/lib/python3.10/dist-packages (from numpy<2.3,>=1.22.4->scipy->torch-sparse) (1.2.4)\r\n",
      "Requirement already satisfied: mkl_umath in /usr/local/lib/python3.10/dist-packages (from numpy<2.3,>=1.22.4->scipy->torch-sparse) (0.1.1)\r\n",
      "Requirement already satisfied: mkl in /usr/local/lib/python3.10/dist-packages (from numpy<2.3,>=1.22.4->scipy->torch-sparse) (2025.0.1)\r\n",
      "Requirement already satisfied: tbb4py in /usr/local/lib/python3.10/dist-packages (from numpy<2.3,>=1.22.4->scipy->torch-sparse) (2022.0.0)\r\n",
      "Requirement already satisfied: mkl-service in /usr/local/lib/python3.10/dist-packages (from numpy<2.3,>=1.22.4->scipy->torch-sparse) (2.4.1)\r\n",
      "Requirement already satisfied: intel-openmp>=2024 in /usr/local/lib/python3.10/dist-packages (from mkl->numpy<2.3,>=1.22.4->scipy->torch-sparse) (2024.2.0)\r\n",
      "Requirement already satisfied: tbb==2022.* in /usr/local/lib/python3.10/dist-packages (from mkl->numpy<2.3,>=1.22.4->scipy->torch-sparse) (2022.0.0)\r\n",
      "Requirement already satisfied: tcmlib==1.* in /usr/local/lib/python3.10/dist-packages (from tbb==2022.*->mkl->numpy<2.3,>=1.22.4->scipy->torch-sparse) (1.2.0)\r\n",
      "Requirement already satisfied: intel-cmplr-lib-rt in /usr/local/lib/python3.10/dist-packages (from mkl_umath->numpy<2.3,>=1.22.4->scipy->torch-sparse) (2024.2.0)\r\n",
      "Requirement already satisfied: intel-cmplr-lib-ur==2024.2.0 in /usr/local/lib/python3.10/dist-packages (from intel-openmp>=2024->mkl->numpy<2.3,>=1.22.4->scipy->torch-sparse) (2024.2.0)\r\n",
      "Installing collected packages: torch-sparse\r\n",
      "Successfully installed torch-sparse-0.6.18+pt25cu121\r\n",
      "Looking in links: https://data.pyg.org/whl/torch-2.5.1+cu121.html\r\n",
      "Collecting torch-cluster\r\n",
      "  Downloading https://data.pyg.org/whl/torch-2.5.0%2Bcu121/torch_cluster-1.6.3%2Bpt25cu121-cp310-cp310-linux_x86_64.whl (3.4 MB)\r\n",
      "\u001b[2K     \u001b[90m━━━━━━━━━━━━━━━━━━━━━━━━━━━━━━━━━━━━━━━━\u001b[0m \u001b[32m3.4/3.4 MB\u001b[0m \u001b[31m37.8 MB/s\u001b[0m eta \u001b[36m0:00:00\u001b[0m\r\n",
      "\u001b[?25hRequirement already satisfied: scipy in /usr/local/lib/python3.10/dist-packages (from torch-cluster) (1.13.1)\r\n",
      "Requirement already satisfied: numpy<2.3,>=1.22.4 in /usr/local/lib/python3.10/dist-packages (from scipy->torch-cluster) (1.26.4)\r\n",
      "Requirement already satisfied: mkl_fft in /usr/local/lib/python3.10/dist-packages (from numpy<2.3,>=1.22.4->scipy->torch-cluster) (1.3.8)\r\n",
      "Requirement already satisfied: mkl_random in /usr/local/lib/python3.10/dist-packages (from numpy<2.3,>=1.22.4->scipy->torch-cluster) (1.2.4)\r\n",
      "Requirement already satisfied: mkl_umath in /usr/local/lib/python3.10/dist-packages (from numpy<2.3,>=1.22.4->scipy->torch-cluster) (0.1.1)\r\n",
      "Requirement already satisfied: mkl in /usr/local/lib/python3.10/dist-packages (from numpy<2.3,>=1.22.4->scipy->torch-cluster) (2025.0.1)\r\n",
      "Requirement already satisfied: tbb4py in /usr/local/lib/python3.10/dist-packages (from numpy<2.3,>=1.22.4->scipy->torch-cluster) (2022.0.0)\r\n",
      "Requirement already satisfied: mkl-service in /usr/local/lib/python3.10/dist-packages (from numpy<2.3,>=1.22.4->scipy->torch-cluster) (2.4.1)\r\n",
      "Requirement already satisfied: intel-openmp>=2024 in /usr/local/lib/python3.10/dist-packages (from mkl->numpy<2.3,>=1.22.4->scipy->torch-cluster) (2024.2.0)\r\n",
      "Requirement already satisfied: tbb==2022.* in /usr/local/lib/python3.10/dist-packages (from mkl->numpy<2.3,>=1.22.4->scipy->torch-cluster) (2022.0.0)\r\n",
      "Requirement already satisfied: tcmlib==1.* in /usr/local/lib/python3.10/dist-packages (from tbb==2022.*->mkl->numpy<2.3,>=1.22.4->scipy->torch-cluster) (1.2.0)\r\n",
      "Requirement already satisfied: intel-cmplr-lib-rt in /usr/local/lib/python3.10/dist-packages (from mkl_umath->numpy<2.3,>=1.22.4->scipy->torch-cluster) (2024.2.0)\r\n",
      "Requirement already satisfied: intel-cmplr-lib-ur==2024.2.0 in /usr/local/lib/python3.10/dist-packages (from intel-openmp>=2024->mkl->numpy<2.3,>=1.22.4->scipy->torch-cluster) (2024.2.0)\r\n",
      "Installing collected packages: torch-cluster\r\n",
      "Successfully installed torch-cluster-1.6.3+pt25cu121\r\n",
      "Collecting git+https://github.com/pyg-team/pytorch_geometric.git\r\n",
      "  Cloning https://github.com/pyg-team/pytorch_geometric.git to /tmp/pip-req-build-4ozanssw\r\n",
      "  Running command git clone --filter=blob:none --quiet https://github.com/pyg-team/pytorch_geometric.git /tmp/pip-req-build-4ozanssw\r\n",
      "  Resolved https://github.com/pyg-team/pytorch_geometric.git to commit d2bb939a1bfba3b7a6f7d7b102a2771471657319\r\n",
      "  Installing build dependencies ... \u001b[?25l\u001b[?25hdone\r\n",
      "  Getting requirements to build wheel ... \u001b[?25l\u001b[?25hdone\r\n",
      "  Preparing metadata (pyproject.toml) ... \u001b[?25l\u001b[?25hdone\r\n",
      "Requirement already satisfied: aiohttp in /usr/local/lib/python3.10/dist-packages (from torch-geometric==2.7.0) (3.11.12)\r\n",
      "Requirement already satisfied: fsspec in /usr/local/lib/python3.10/dist-packages (from torch-geometric==2.7.0) (2024.12.0)\r\n",
      "Requirement already satisfied: jinja2 in /usr/local/lib/python3.10/dist-packages (from torch-geometric==2.7.0) (3.1.4)\r\n",
      "Requirement already satisfied: numpy in /usr/local/lib/python3.10/dist-packages (from torch-geometric==2.7.0) (1.26.4)\r\n",
      "Requirement already satisfied: psutil>=5.8.0 in /usr/local/lib/python3.10/dist-packages (from torch-geometric==2.7.0) (5.9.5)\r\n",
      "Requirement already satisfied: pyparsing in /usr/local/lib/python3.10/dist-packages (from torch-geometric==2.7.0) (3.2.0)\r\n",
      "Requirement already satisfied: requests in /usr/local/lib/python3.10/dist-packages (from torch-geometric==2.7.0) (2.32.3)\r\n",
      "Requirement already satisfied: tqdm in /usr/local/lib/python3.10/dist-packages (from torch-geometric==2.7.0) (4.67.1)\r\n",
      "Requirement already satisfied: xxhash in /usr/local/lib/python3.10/dist-packages (from torch-geometric==2.7.0) (3.5.0)\r\n",
      "Requirement already satisfied: aiohappyeyeballs>=2.3.0 in /usr/local/lib/python3.10/dist-packages (from aiohttp->torch-geometric==2.7.0) (2.4.6)\r\n",
      "Requirement already satisfied: aiosignal>=1.1.2 in /usr/local/lib/python3.10/dist-packages (from aiohttp->torch-geometric==2.7.0) (1.3.2)\r\n",
      "Requirement already satisfied: async-timeout<6.0,>=4.0 in /usr/local/lib/python3.10/dist-packages (from aiohttp->torch-geometric==2.7.0) (5.0.1)\r\n",
      "Requirement already satisfied: attrs>=17.3.0 in /usr/local/lib/python3.10/dist-packages (from aiohttp->torch-geometric==2.7.0) (25.1.0)\r\n",
      "Requirement already satisfied: frozenlist>=1.1.1 in /usr/local/lib/python3.10/dist-packages (from aiohttp->torch-geometric==2.7.0) (1.5.0)\r\n",
      "Requirement already satisfied: multidict<7.0,>=4.5 in /usr/local/lib/python3.10/dist-packages (from aiohttp->torch-geometric==2.7.0) (6.1.0)\r\n",
      "Requirement already satisfied: propcache>=0.2.0 in /usr/local/lib/python3.10/dist-packages (from aiohttp->torch-geometric==2.7.0) (0.2.1)\r\n",
      "Requirement already satisfied: yarl<2.0,>=1.17.0 in /usr/local/lib/python3.10/dist-packages (from aiohttp->torch-geometric==2.7.0) (1.18.3)\r\n",
      "Requirement already satisfied: MarkupSafe>=2.0 in /usr/local/lib/python3.10/dist-packages (from jinja2->torch-geometric==2.7.0) (3.0.2)\r\n",
      "Requirement already satisfied: mkl_fft in /usr/local/lib/python3.10/dist-packages (from numpy->torch-geometric==2.7.0) (1.3.8)\r\n",
      "Requirement already satisfied: mkl_random in /usr/local/lib/python3.10/dist-packages (from numpy->torch-geometric==2.7.0) (1.2.4)\r\n",
      "Requirement already satisfied: mkl_umath in /usr/local/lib/python3.10/dist-packages (from numpy->torch-geometric==2.7.0) (0.1.1)\r\n",
      "Requirement already satisfied: mkl in /usr/local/lib/python3.10/dist-packages (from numpy->torch-geometric==2.7.0) (2025.0.1)\r\n",
      "Requirement already satisfied: tbb4py in /usr/local/lib/python3.10/dist-packages (from numpy->torch-geometric==2.7.0) (2022.0.0)\r\n",
      "Requirement already satisfied: mkl-service in /usr/local/lib/python3.10/dist-packages (from numpy->torch-geometric==2.7.0) (2.4.1)\r\n",
      "Requirement already satisfied: charset-normalizer<4,>=2 in /usr/local/lib/python3.10/dist-packages (from requests->torch-geometric==2.7.0) (3.4.1)\r\n",
      "Requirement already satisfied: idna<4,>=2.5 in /usr/local/lib/python3.10/dist-packages (from requests->torch-geometric==2.7.0) (3.10)\r\n",
      "Requirement already satisfied: urllib3<3,>=1.21.1 in /usr/local/lib/python3.10/dist-packages (from requests->torch-geometric==2.7.0) (2.3.0)\r\n",
      "Requirement already satisfied: certifi>=2017.4.17 in /usr/local/lib/python3.10/dist-packages (from requests->torch-geometric==2.7.0) (2025.1.31)\r\n",
      "Requirement already satisfied: typing-extensions>=4.1.0 in /usr/local/lib/python3.10/dist-packages (from multidict<7.0,>=4.5->aiohttp->torch-geometric==2.7.0) (4.12.2)\r\n",
      "Requirement already satisfied: intel-openmp>=2024 in /usr/local/lib/python3.10/dist-packages (from mkl->numpy->torch-geometric==2.7.0) (2024.2.0)\r\n",
      "Requirement already satisfied: tbb==2022.* in /usr/local/lib/python3.10/dist-packages (from mkl->numpy->torch-geometric==2.7.0) (2022.0.0)\r\n",
      "Requirement already satisfied: tcmlib==1.* in /usr/local/lib/python3.10/dist-packages (from tbb==2022.*->mkl->numpy->torch-geometric==2.7.0) (1.2.0)\r\n",
      "Requirement already satisfied: intel-cmplr-lib-rt in /usr/local/lib/python3.10/dist-packages (from mkl_umath->numpy->torch-geometric==2.7.0) (2024.2.0)\r\n",
      "Requirement already satisfied: intel-cmplr-lib-ur==2024.2.0 in /usr/local/lib/python3.10/dist-packages (from intel-openmp>=2024->mkl->numpy->torch-geometric==2.7.0) (2024.2.0)\r\n",
      "Building wheels for collected packages: torch-geometric\r\n",
      "  Building wheel for torch-geometric (pyproject.toml) ... \u001b[?25l\u001b[?25hdone\r\n",
      "  Created wheel for torch-geometric: filename=torch_geometric-2.7.0-py3-none-any.whl size=1185293 sha256=9bcfda499ffadeccc5f30bd772367dca7096a0b9f46a8bfef400dfc576bc42e2\r\n",
      "  Stored in directory: /tmp/pip-ephem-wheel-cache-dx3hqggo/wheels/d3/78/eb/9e26525b948d19533f1688fb6c209cec8a0ba793d39b49ae8f\r\n",
      "Successfully built torch-geometric\r\n",
      "Installing collected packages: torch-geometric\r\n",
      "Successfully installed torch-geometric-2.7.0\r\n"
     ]
    }
   ],
   "source": [
    "import torch\n",
    "\n",
    "!pip uninstall torch-scatter torch-sparse torch-geometric torch-cluster  --y\n",
    "!pip install torch-scatter -f https://data.pyg.org/whl/torch-{torch.__version__}.html\n",
    "!pip install torch-sparse -f https://data.pyg.org/whl/torch-{torch.__version__}.html\n",
    "!pip install torch-cluster -f https://data.pyg.org/whl/torch-{torch.__version__}.html\n",
    "!pip install git+https://github.com/pyg-team/pytorch_geometric.git"
   ]
  },
  {
   "cell_type": "code",
   "execution_count": 2,
   "id": "0bd5eef0",
   "metadata": {
    "execution": {
     "iopub.execute_input": "2025-03-18T17:53:20.670926Z",
     "iopub.status.busy": "2025-03-18T17:53:20.670329Z",
     "iopub.status.idle": "2025-03-18T17:53:28.979846Z",
     "shell.execute_reply": "2025-03-18T17:53:28.978845Z"
    },
    "papermill": {
     "duration": 8.316977,
     "end_time": "2025-03-18T17:53:28.981379",
     "exception": false,
     "start_time": "2025-03-18T17:53:20.664402",
     "status": "completed"
    },
    "tags": []
   },
   "outputs": [
    {
     "name": "stdout",
     "output_type": "stream",
     "text": [
      "Using device: cuda\n"
     ]
    }
   ],
   "source": [
    "import os\n",
    "import glob\n",
    "import numpy as np\n",
    "import pandas as pd\n",
    "import matplotlib.pyplot as plt\n",
    "\n",
    "import torch\n",
    "import torch.nn as nn\n",
    "import torch.nn.functional as F\n",
    "\n",
    "from torch.utils.data import Dataset, random_split, ConcatDataset\n",
    "from torch_geometric.loader import DataLoader\n",
    "from torch_geometric.data import Data\n",
    "from torch_geometric.nn import GCNConv, global_mean_pool\n",
    "from torch_geometric.utils import add_self_loops\n",
    "\n",
    "from sklearn.metrics import accuracy_score, precision_score, recall_score, f1_score\n",
    "from scipy.stats import ttest_ind\n",
    "import statsmodels.stats.multitest as smm\n",
    "\n",
    "device = torch.device(\"cuda\" if torch.cuda.is_available() else \"cpu\")\n",
    "print(f\"Using device: {device}\")"
   ]
  },
  {
   "cell_type": "markdown",
   "id": "6d924a56",
   "metadata": {
    "papermill": {
     "duration": 0.004992,
     "end_time": "2025-03-18T17:53:28.991925",
     "exception": false,
     "start_time": "2025-03-18T17:53:28.986933",
     "status": "completed"
    },
    "tags": []
   },
   "source": [
    "# **Data paths**"
   ]
  },
  {
   "cell_type": "code",
   "execution_count": null,
   "id": "c2bb5b02",
   "metadata": {
    "execution": {
     "iopub.execute_input": "2025-03-18T17:53:29.003221Z",
     "iopub.status.busy": "2025-03-18T17:53:29.002765Z",
     "iopub.status.idle": "2025-03-18T17:53:29.006607Z",
     "shell.execute_reply": "2025-03-18T17:53:29.005788Z"
    },
    "papermill": {
     "duration": 0.010739,
     "end_time": "2025-03-18T17:53:29.007790",
     "exception": false,
     "start_time": "2025-03-18T17:53:28.997051",
     "status": "completed"
    },
    "tags": []
   },
   "outputs": [],
   "source": [
    "MCI_FOLDER_ALL = \"/kaggle/input/ADNI/MCI\" \n",
    "CN_FOLDER_ALL  = \"/kaggle/input/ADNI/CN\" \n",
    "MCI_FOLDER_TRAIN = \"/kaggle/input/ADNI/MCI/train\"\n",
    "MCI_FOLDER_TEST = \"/kaggle/input/ADNI/MCI/test\"\n",
    "CN_FOLDER_TRAIN = \"/kaggle/input/ADNI/CN/train\"\n",
    "CN_FOLDER_TEST = \"/kaggle/input/ADNI/CN/test\"\n",
    "AAL_90_PATH = \"/kaggle/input/aal-template/AAL90_region_info.xls\""
   ]
  },
  {
   "cell_type": "markdown",
   "id": "ca2dfe4d",
   "metadata": {
    "papermill": {
     "duration": 0.00493,
     "end_time": "2025-03-18T17:53:29.017818",
     "exception": false,
     "start_time": "2025-03-18T17:53:29.012888",
     "status": "completed"
    },
    "tags": []
   },
   "source": [
    "# **Utility functions**"
   ]
  },
  {
   "cell_type": "code",
   "execution_count": null,
   "id": "641eb9fe",
   "metadata": {
    "execution": {
     "iopub.execute_input": "2025-03-18T17:53:29.028867Z",
     "iopub.status.busy": "2025-03-18T17:53:29.028626Z",
     "iopub.status.idle": "2025-03-18T17:53:29.034843Z",
     "shell.execute_reply": "2025-03-18T17:53:29.034045Z"
    },
    "papermill": {
     "duration": 0.013134,
     "end_time": "2025-03-18T17:53:29.036069",
     "exception": false,
     "start_time": "2025-03-18T17:53:29.022935",
     "status": "completed"
    },
    "tags": []
   },
   "outputs": [],
   "source": [
    "def get_all_txt_files(folder_path):\n",
    "    return sorted(glob.glob(os.path.join(folder_path, \"**\", \"*.txt\"), recursive=True))\n",
    "\n",
    "def load_timeseries(file_path):\n",
    "    return np.loadtxt(file_path)\n",
    "\n",
    "def clean_timeseries(ts):\n",
    "    \"\"\"Add a tiny random noise if a column's standard deviation is near zero\"\"\"\n",
    "    eps = 1e-6\n",
    "    for col_idx in range(ts.shape[1]):\n",
    "        std_ = np.std(ts[:, col_idx])\n",
    "        if std_ < eps:\n",
    "            ts[:, col_idx] += np.random.normal(loc=0, scale=1e-4, size=(ts.shape[0],))\n",
    "    return ts\n",
    "\n",
    "def compute_corr(timeseries):\n",
    "    \"\"\" Calculates the correlation matrix, clamping values to [-1,1]\"\"\"\n",
    "    corr = np.corrcoef(timeseries.T)\n",
    "    corr = np.nan_to_num(corr, nan=0.0, posinf=0.0, neginf=-1.0)\n",
    "    corr = np.clip(corr, -1.0, 1.0)\n",
    "    return corr\n",
    "\n",
    "def get_subject_correlation_matrices(folder_path):\n",
    "    txt_files = get_all_txt_files(folder_path)\n",
    "    mats = []\n",
    "    for f in txt_files:\n",
    "        ts = load_timeseries(f)\n",
    "        if ts.ndim != 2 or ts.shape[1] != 90:\n",
    "            print(f\"Skipping {f}, shape={ts.shape}\")\n",
    "            continue\n",
    "        c = compute_corr(ts)\n",
    "        mats.append(c)\n",
    "    return np.array(mats)"
   ]
  },
  {
   "cell_type": "markdown",
   "id": "34da8fad",
   "metadata": {
    "papermill": {
     "duration": 0.00499,
     "end_time": "2025-03-18T17:53:29.046216",
     "exception": false,
     "start_time": "2025-03-18T17:53:29.041226",
     "status": "completed"
    },
    "tags": []
   },
   "source": [
    "# **Statistical test and building the mask**\n",
    "\n",
    "\n",
    "* We collect correlation matrices for both classes.\n",
    "* For each pair (i,j) of regions, we run a Welch’s t-test comparing the classes.\n",
    "* Benjamini–Hochberg (FDR) controls multiple tests.\n",
    "* The mask records which edges are significant\n"
   ]
  },
  {
   "cell_type": "code",
   "execution_count": null,
   "id": "1efca4c0",
   "metadata": {
    "execution": {
     "iopub.execute_input": "2025-03-18T17:53:29.057573Z",
     "iopub.status.busy": "2025-03-18T17:53:29.057300Z",
     "iopub.status.idle": "2025-03-18T17:53:40.315617Z",
     "shell.execute_reply": "2025-03-18T17:53:40.314794Z"
    },
    "papermill": {
     "duration": 11.265642,
     "end_time": "2025-03-18T17:53:40.317063",
     "exception": false,
     "start_time": "2025-03-18T17:53:29.051421",
     "status": "completed"
    },
    "tags": []
   },
   "outputs": [],
   "source": [
    "mci_corr_mats = get_subject_correlation_matrices(MCI_FOLDER_ALL)\n",
    "cn_corr_mats  = get_subject_correlation_matrices(CN_FOLDER_ALL)\n",
    "\n",
    "df = pd.read_excel(AAL_90_PATH, header=0)\n",
    "region_dict = dict(zip(df['Labels'], df['Regions']))\n",
    "n_regions = 90\n",
    "\n",
    "assert mci_corr_mats.shape[1] == n_regions and mci_corr_mats.shape[2] == n_regions, \"MCI shape not 90x90\"\n",
    "assert cn_corr_mats.shape[1] == n_regions and cn_corr_mats.shape[2] == n_regions, \"CN shape not 90x90\"\n",
    "\n",
    "results_list = []\n",
    "for i in range(n_regions):\n",
    "    for j in range(i+1, n_regions):\n",
    "        mci_vals = mci_corr_mats[:, i, j]\n",
    "        cn_vals  = cn_corr_mats[:, i, j]\n",
    "        t_stat, p_val = ttest_ind(mci_vals, cn_vals, equal_var=False, nan_policy='omit')\n",
    "        results_list.append({\n",
    "            'i': i,\n",
    "            'j': j,\n",
    "            'region_i': region_dict.get(i+1, f\"R{i+1}\"),\n",
    "            'region_j': region_dict.get(j+1, f\"R{j+1}\"),\n",
    "            't_stat': t_stat,\n",
    "            'p_value': p_val\n",
    "        })\n",
    "\n",
    "edges_df = pd.DataFrame(results_list)\n",
    "pvals = edges_df['p_value'].values\n",
    "reject, pvals_corrected, _, _ = smm.multipletests(pvals, alpha=0.05, method='fdr_bh')\n",
    "\n",
    "edges_df['p_value_corrected'] = pvals_corrected\n",
    "edges_df['reject_null'] = reject\n",
    "\n",
    "sig_edges = edges_df[edges_df['reject_null']].copy()\n",
    "sig_edges.sort_values('p_value_corrected', inplace=True)\n",
    "\n",
    "mask = np.zeros((n_regions, n_regions), dtype=np.float32)\n",
    "for row in sig_edges.itertuples():\n",
    "    i, j = row.i, row.j\n",
    "    mask[i, j] = 1\n",
    "    mask[j, i] = 1"
   ]
  },
  {
   "cell_type": "markdown",
   "id": "4e68afe2",
   "metadata": {
    "papermill": {
     "duration": 0.005236,
     "end_time": "2025-03-18T17:53:40.327940",
     "exception": false,
     "start_time": "2025-03-18T17:53:40.322704",
     "status": "completed"
    },
    "tags": []
   },
   "source": [
    "# **Dataset for graph construction**\n",
    "\n",
    "\n",
    "For each subject file:\n",
    "1. We load time-series and compute correlation.\n",
    "2. We build node features ([mean, std] per region).\n",
    "3. We apply the group-level mask to keep only significant edges.\n",
    "4. We create a PyG Data object.\n",
    "\n"
   ]
  },
  {
   "cell_type": "code",
   "execution_count": 6,
   "id": "adc2d837",
   "metadata": {
    "execution": {
     "iopub.execute_input": "2025-03-18T17:53:40.339384Z",
     "iopub.status.busy": "2025-03-18T17:53:40.339129Z",
     "iopub.status.idle": "2025-03-18T17:53:40.346663Z",
     "shell.execute_reply": "2025-03-18T17:53:40.345841Z"
    },
    "papermill": {
     "duration": 0.014707,
     "end_time": "2025-03-18T17:53:40.347857",
     "exception": false,
     "start_time": "2025-03-18T17:53:40.333150",
     "status": "completed"
    },
    "tags": []
   },
   "outputs": [],
   "source": [
    "class BrainGraphDataset(Dataset):\n",
    "    def __init__(self, folder_path, label, mask):\n",
    "        super().__init__()\n",
    "        self.files = get_all_txt_files(folder_path)\n",
    "        self.label = label\n",
    "        self.mask = mask\n",
    "\n",
    "    def __len__(self):\n",
    "        return len(self.files)\n",
    "\n",
    "    def __getitem__(self, idx):\n",
    "        file_path = self.files[idx]\n",
    "        ts = load_timeseries(file_path)\n",
    "        corr = compute_corr(ts)\n",
    "        node_feats = []\n",
    "        for r in range(n_regions):\n",
    "            arr = ts[:, r]\n",
    "            mean_ = np.mean(arr)\n",
    "            std_  = np.std(arr)\n",
    "            if std_ < 1e-9:\n",
    "                std_ = 1e-9\n",
    "            node_feats.append([mean_, std_])\n",
    "        x = torch.tensor(node_feats, dtype=torch.float)\n",
    "\n",
    "        corr_masked = corr * self.mask\n",
    "        corr_masked[corr_masked<0] = 0\n",
    "\n",
    "        edge_index_list = []\n",
    "        edge_attr_list = []\n",
    "        for i in range(n_regions):\n",
    "            for j in range(n_regions):\n",
    "                if i != j and self.mask[i, j] == 1:\n",
    "                    val = corr_masked[i, j]\n",
    "                    edge_index_list.append([i, j])\n",
    "                    edge_attr_list.append(val)\n",
    "\n",
    "        if len(edge_index_list)==0:\n",
    "            e_idx = torch.empty((2,0), dtype=torch.long)\n",
    "            e_attr= torch.empty((0,), dtype=torch.float)\n",
    "        else:\n",
    "            e_idx = torch.tensor(edge_index_list, dtype=torch.long).t().contiguous()\n",
    "            e_attr= torch.tensor(edge_attr_list, dtype=torch.float)\n",
    "\n",
    "        e_idx, e_attr = add_self_loops(e_idx, e_attr, fill_value=0.0, num_nodes=n_regions)\n",
    "\n",
    "        y = torch.tensor([self.label], dtype=torch.long)\n",
    "        data = Data(x=x, edge_index=e_idx, edge_attr=e_attr, y=y)\n",
    "        return data"
   ]
  },
  {
   "cell_type": "markdown",
   "id": "af663b1e",
   "metadata": {
    "papermill": {
     "duration": 0.005102,
     "end_time": "2025-03-18T17:53:40.358396",
     "exception": false,
     "start_time": "2025-03-18T17:53:40.353294",
     "status": "completed"
    },
    "tags": []
   },
   "source": [
    "# GNN\n",
    "\n",
    "We use a simple two-layer GCN. After the second layer, we pool node embeddings and classify them."
   ]
  },
  {
   "cell_type": "code",
   "execution_count": 7,
   "id": "6f7bac8d",
   "metadata": {
    "execution": {
     "iopub.execute_input": "2025-03-18T17:53:40.369795Z",
     "iopub.status.busy": "2025-03-18T17:53:40.369536Z",
     "iopub.status.idle": "2025-03-18T17:53:40.374362Z",
     "shell.execute_reply": "2025-03-18T17:53:40.373549Z"
    },
    "papermill": {
     "duration": 0.011773,
     "end_time": "2025-03-18T17:53:40.375534",
     "exception": false,
     "start_time": "2025-03-18T17:53:40.363761",
     "status": "completed"
    },
    "tags": []
   },
   "outputs": [],
   "source": [
    "class GNNClassifier(nn.Module):\n",
    "    def __init__(self, in_channels=2, hidden_dim=64, num_classes=2):\n",
    "        super().__init__()\n",
    "        self.conv1 = GCNConv(in_channels, hidden_dim, normalize=False)\n",
    "        self.conv2 = GCNConv(hidden_dim, hidden_dim, normalize=False)\n",
    "        self.fc    = nn.Linear(hidden_dim, num_classes)\n",
    "\n",
    "    def forward(self, data):\n",
    "        x, edge_index, edge_attr, batch = data.x, data.edge_index, data.edge_attr, data.batch\n",
    "        x = self.conv1(x, edge_index, edge_weight=edge_attr)\n",
    "        x = F.relu(x)\n",
    "        x = self.conv2(x, edge_index, edge_weight=edge_attr)\n",
    "        x = F.relu(x)\n",
    "        x = global_mean_pool(x, batch)\n",
    "        return self.fc(x)\n"
   ]
  },
  {
   "cell_type": "markdown",
   "id": "3978b3ab",
   "metadata": {
    "papermill": {
     "duration": 0.005116,
     "end_time": "2025-03-18T17:53:40.386319",
     "exception": false,
     "start_time": "2025-03-18T17:53:40.381203",
     "status": "completed"
    },
    "tags": []
   },
   "source": [
    "# Train and test datasets"
   ]
  },
  {
   "cell_type": "code",
   "execution_count": null,
   "id": "c32c62e2",
   "metadata": {
    "execution": {
     "iopub.execute_input": "2025-03-18T17:53:40.397549Z",
     "iopub.status.busy": "2025-03-18T17:53:40.397293Z",
     "iopub.status.idle": "2025-03-18T17:53:40.563319Z",
     "shell.execute_reply": "2025-03-18T17:53:40.562608Z"
    },
    "papermill": {
     "duration": 0.17286,
     "end_time": "2025-03-18T17:53:40.564414",
     "exception": false,
     "start_time": "2025-03-18T17:53:40.391554",
     "status": "completed"
    },
    "tags": []
   },
   "outputs": [],
   "source": [
    "mci_train_dataset = BrainGraphDataset(MCI_FOLDER_TRAIN, label=1, mask=mask)\n",
    "cn_train_dataset  = BrainGraphDataset(CN_FOLDER_TRAIN, label=0, mask=mask)\n",
    "train_dataset     = ConcatDataset([mci_train_dataset, cn_train_dataset])\n",
    "\n",
    "mci_test_dataset = BrainGraphDataset(MCI_FOLDER_TEST, label=1, mask=mask)\n",
    "cn_test_dataset  = BrainGraphDataset(CN_FOLDER_TEST, label=0, mask=mask)\n",
    "test_dataset     = ConcatDataset([mci_test_dataset, cn_test_dataset])\n",
    "\n",
    "train_loader = DataLoader(train_dataset, batch_size=4, shuffle=True)\n",
    "test_loader  = DataLoader(test_dataset,  batch_size=4, shuffle=False)"
   ]
  },
  {
   "cell_type": "markdown",
   "id": "72cbfed5",
   "metadata": {
    "papermill": {
     "duration": 0.005686,
     "end_time": "2025-03-18T17:53:40.575533",
     "exception": false,
     "start_time": "2025-03-18T17:53:40.569847",
     "status": "completed"
    },
    "tags": []
   },
   "source": [
    "# Training"
   ]
  },
  {
   "cell_type": "code",
   "execution_count": null,
   "id": "535f69f8",
   "metadata": {
    "execution": {
     "iopub.execute_input": "2025-03-18T17:53:40.586883Z",
     "iopub.status.busy": "2025-03-18T17:53:40.586659Z",
     "iopub.status.idle": "2025-03-18T18:20:49.558265Z",
     "shell.execute_reply": "2025-03-18T18:20:49.557264Z"
    },
    "papermill": {
     "duration": 1628.985445,
     "end_time": "2025-03-18T18:20:49.566241",
     "exception": false,
     "start_time": "2025-03-18T17:53:40.580796",
     "status": "completed"
    },
    "tags": []
   },
   "outputs": [],
   "source": [
    "model = GNNClassifier(in_channels=2, hidden_dim=64, num_classes=2).to(device)\n",
    "optimizer = torch.optim.Adam(model.parameters(), lr=1e-4)\n",
    "criterion = nn.CrossEntropyLoss()\n",
    "\n",
    "EPOCHS = 150\n",
    "\n",
    "train_losses = []\n",
    "test_losses  = []\n",
    "train_accs   = []\n",
    "test_accs    = []\n",
    "\n",
    "for epoch in range(1, EPOCHS+1):\n",
    "    model.train()\n",
    "    running_loss = 0.0\n",
    "    correct = 0\n",
    "    total   = 0\n",
    "    for batch_data in train_loader:\n",
    "        batch_data = batch_data.to(device)\n",
    "        optimizer.zero_grad()\n",
    "        out = model(batch_data)\n",
    "        loss = criterion(out, batch_data.y)\n",
    "        loss.backward()\n",
    "        torch.nn.utils.clip_grad_norm_(model.parameters(), 1.0)\n",
    "        optimizer.step()\n",
    "\n",
    "        running_loss += loss.item() * batch_data.num_graphs\n",
    "        preds = out.argmax(dim=1)\n",
    "        correct += (preds == batch_data.y).sum().item()\n",
    "        total   += batch_data.num_graphs\n",
    "\n",
    "    epoch_train_loss = running_loss / len(train_dataset)\n",
    "    epoch_train_acc  = correct / total\n",
    "\n",
    "    model.eval()\n",
    "    test_loss_sum = 0.0\n",
    "    test_correct  = 0\n",
    "    test_total    = 0\n",
    "    with torch.no_grad():\n",
    "        for batch_data in test_loader:\n",
    "            batch_data = batch_data.to(device)\n",
    "            out = model(batch_data)\n",
    "            loss = criterion(out, batch_data.y)\n",
    "            test_loss_sum += loss.item() * batch_data.num_graphs\n",
    "            preds = out.argmax(dim=1)\n",
    "            test_correct += (preds == batch_data.y).sum().item()\n",
    "            test_total   += batch_data.num_graphs\n",
    "\n",
    "    epoch_test_loss = test_loss_sum / len(test_dataset)\n",
    "    epoch_test_acc  = test_correct / test_total\n",
    "\n",
    "    train_losses.append(epoch_train_loss)\n",
    "    test_losses.append(epoch_test_loss)\n",
    "    train_accs.append(epoch_train_acc)\n",
    "    test_accs.append(epoch_test_acc)\n",
    "\n",
    "    if epoch % 10 == 0:\n",
    "        print(f\"Epoch {epoch:03d}/{EPOCHS} | \"\n",
    "              f\"Train Loss={epoch_train_loss:.4f}, Acc={epoch_train_acc:.4f} | \"\n",
    "              f\"Test Loss={epoch_test_loss:.4f}, Acc={epoch_test_acc:.4f}\")"
   ]
  },
  {
   "cell_type": "markdown",
   "id": "6ca442bf",
   "metadata": {
    "papermill": {
     "duration": 0.006381,
     "end_time": "2025-03-18T18:20:49.579500",
     "exception": false,
     "start_time": "2025-03-18T18:20:49.573119",
     "status": "completed"
    },
    "tags": []
   },
   "source": [
    "# Plotting loss and accuracy"
   ]
  },
  {
   "cell_type": "markdown",
   "id": "3d0fff24",
   "metadata": {
    "papermill": {
     "duration": 0.008295,
     "end_time": "2025-03-18T18:20:50.126465",
     "exception": false,
     "start_time": "2025-03-18T18:20:50.118170",
     "status": "completed"
    },
    "tags": []
   },
   "source": [
    "# Final evaluation"
   ]
  },
  {
   "cell_type": "code",
   "execution_count": 11,
   "id": "1f3f2db6",
   "metadata": {
    "execution": {
     "iopub.execute_input": "2025-03-18T18:20:50.143861Z",
     "iopub.status.busy": "2025-03-18T18:20:50.143611Z",
     "iopub.status.idle": "2025-03-18T18:20:52.179566Z",
     "shell.execute_reply": "2025-03-18T18:20:52.178637Z"
    },
    "papermill": {
     "duration": 2.046217,
     "end_time": "2025-03-18T18:20:52.180860",
     "exception": false,
     "start_time": "2025-03-18T18:20:50.134643",
     "status": "completed"
    },
    "tags": []
   },
   "outputs": [
    {
     "name": "stdout",
     "output_type": "stream",
     "text": [
      "\n",
      "Final Test Metrics:\n",
      "Accuracy= 0.5857\n",
      "Precision=0.6000\n",
      "Recall=   0.5143\n",
      "F1-score= 0.5538\n",
      "Model saved to gnn_classifier_mci_cn.pth\n"
     ]
    }
   ],
   "source": [
    "model.eval()\n",
    "all_preds = []\n",
    "all_labels= []\n",
    "with torch.no_grad():\n",
    "    for data_batch in test_loader:\n",
    "        data_batch = data_batch.to(device)\n",
    "        out = model(data_batch)\n",
    "        preds = out.argmax(dim=1).cpu().numpy()\n",
    "        labels= data_batch.y.cpu().numpy()\n",
    "        all_preds.extend(preds)\n",
    "        all_labels.extend(labels)\n",
    "\n",
    "acc = accuracy_score(all_labels, all_preds)\n",
    "prec= precision_score(all_labels, all_preds, average='binary')\n",
    "rec = recall_score(all_labels, all_preds, average='binary')\n",
    "f1  = f1_score(all_labels, all_preds, average='binary')\n",
    "\n",
    "print(\"\\nFinal Test Metrics:\")\n",
    "print(f\"Accuracy= {acc:.4f}\")\n",
    "print(f\"Precision={prec:.4f}\")\n",
    "print(f\"Recall=   {rec:.4f}\")\n",
    "print(f\"F1-score= {f1:.4f}\")\n",
    "\n",
    "model_save_path = \"gnn_classifier_mci_cn.pth\"\n",
    "torch.save(model.state_dict(), model_save_path)\n",
    "print(f\"Model saved to {model_save_path}\")"
   ]
  },
  {
   "cell_type": "markdown",
   "id": "a10c8151",
   "metadata": {},
   "source": [
    "**Feature importance**"
   ]
  },
  {
   "cell_type": "code",
   "execution_count": null,
   "id": "d4355ef0",
   "metadata": {},
   "outputs": [],
   "source": [
    "from torch_geometric.explain import Explainer, GNNExplainer\n",
    "from torch_geometric.explain.config import ModelConfig\n",
    "from torch_geometric.data import Data\n",
    "\n",
    "class WrappedModel(nn.Module):\n",
    "    def __init__(self, base):\n",
    "        super().__init__()\n",
    "        self.base = base          \n",
    "\n",
    "    def forward(self, x, edge_index, edge_weight, batch=None):\n",
    "        if batch is None:\n",
    "            batch = torch.zeros(x.size(0), dtype=torch.long,\n",
    "                                device=x.device)\n",
    "        g = Data(x=x,\n",
    "                 edge_index=edge_index,\n",
    "                 edge_attr=edge_weight,\n",
    "                 batch=batch)\n",
    "        return self.base(g)\n",
    "\n",
    "wrapped = WrappedModel(model).to(device)\n",
    "wrapped.eval()\n",
    "\n",
    "test_loader = DataLoader(test_dataset, batch_size=1, shuffle=False)\n",
    "\n",
    "model_cfg = ModelConfig(\n",
    "    mode        = 'binary_classification',   \n",
    "    task_level  = 'graph',\n",
    "    return_type = 'raw'                      \n",
    ")\n",
    "\n",
    "explainer = Explainer(\n",
    "    model            = wrapped,\n",
    "    algorithm        = GNNExplainer(epochs=200),\n",
    "    model_config     = model_cfg,\n",
    "    explanation_type = 'model',\n",
    "    node_mask_type   = None,\n",
    "    edge_mask_type   = 'object'\n",
    ")\n",
    "\n",
    "edge_imp_accum = torch.zeros((n_regions, n_regions), device=device)\n",
    "count = 0\n",
    "\n",
    "for data in test_loader:\n",
    "    data = data.to(device)\n",
    "    if model(data).argmax(1).item() != data.y.item():\n",
    "        continue           \n",
    "\n",
    "    exp  = explainer(\n",
    "        x           = data.x,\n",
    "        edge_index  = data.edge_index,\n",
    "        edge_weight = data.edge_attr\n",
    "    )\n",
    "    mask = exp.edge_mask              \n",
    "    ei   = data.edge_index\n",
    "\n",
    "    for k, score in enumerate(mask):\n",
    "        u, v = ei[0, k].item(), ei[1, k].item()\n",
    "        edge_imp_accum[u, v] += score\n",
    "        edge_imp_accum[v, u] += score\n",
    "    count += 1\n",
    "\n",
    "edge_imp_avg = (edge_imp_accum / max(count, 1)).cpu().numpy()\n",
    "\n",
    "u, v   = np.triu_indices(n_regions, k=1)\n",
    "scores = edge_imp_avg[u, v]\n",
    "best   = np.argsort(scores)[-10:][::-1]\n",
    "\n",
    "rows = []\n",
    "for rank, idx in enumerate(best, 1):\n",
    "    i, j = u[idx], v[idx]\n",
    "    rows.append({\n",
    "        'rank'      : rank,\n",
    "        'region_i'  : region_dict[i+1],\n",
    "        'region_j'  : region_dict[j+1],\n",
    "        'importance': float(scores[idx])\n",
    "    })\n",
    "\n",
    "df_imp = pd.DataFrame(rows)\n",
    "print(\"\\nTop-10 Discriminative Edges (MCI vs CN)\")\n",
    "print(df_imp[['rank', 'region_i', 'region_j', 'importance']])"
   ]
  }
 ],
 "metadata": {
  "accelerator": "GPU",
  "colab": {
   "gpuType": "T4",
   "provenance": []
  },
  "kaggle": {
   "accelerator": "gpu",
   "dataSources": [
    {
     "datasetId": 6845082,
     "sourceId": 10996424,
     "sourceType": "datasetVersion"
    },
    {
     "datasetId": 6901216,
     "sourceId": 11073784,
     "sourceType": "datasetVersion"
    },
    {
     "datasetId": 6901616,
     "sourceId": 11074285,
     "sourceType": "datasetVersion"
    },
    {
     "datasetId": 6904306,
     "sourceId": 11077773,
     "sourceType": "datasetVersion"
    }
   ],
   "dockerImageVersionId": 30919,
   "isGpuEnabled": true,
   "isInternetEnabled": true,
   "language": "python",
   "sourceType": "notebook"
  },
  "kernelspec": {
   "display_name": "Python 3",
   "language": "python",
   "name": "python3"
  },
  "language_info": {
   "codemirror_mode": {
    "name": "ipython",
    "version": 3
   },
   "file_extension": ".py",
   "mimetype": "text/x-python",
   "name": "python",
   "nbconvert_exporter": "python",
   "pygments_lexer": "ipython3",
   "version": "3.10.12"
  },
  "papermill": {
   "default_parameters": {},
   "duration": 1683.159592,
   "end_time": "2025-03-18T18:20:54.013072",
   "environment_variables": {},
   "exception": null,
   "input_path": "__notebook__.ipynb",
   "output_path": "__notebook__.ipynb",
   "parameters": {},
   "start_time": "2025-03-18T17:52:50.853480",
   "version": "2.6.0"
  }
 },
 "nbformat": 4,
 "nbformat_minor": 5
}
