{
  "cells": [
    {
      "cell_type": "code",
      "execution_count": null,
      "metadata": {
        "colab": {
          "base_uri": "https://localhost:8080/"
        },
        "id": "1ALHUQol1rVy",
        "outputId": "64eb1c5a-4e1d-4fb7-aecb-cc752029cc7a"
      },
      "outputs": [
        {
          "name": "stdout",
          "output_type": "stream",
          "text": [
            "Drive already mounted at /content/drive; to attempt to forcibly remount, call drive.mount(\"/content/drive\", force_remount=True).\n"
          ]
        }
      ],
      "source": [
        "import numpy as np\n",
        "import glob\n",
        "import os\n",
        "from sklearn.svm import SVC\n",
        "from sklearn.preprocessing import StandardScaler\n",
        "from sklearn.metrics import (\n",
        "    accuracy_score, precision_score, recall_score, f1_score,\n",
        "    confusion_matrix, classification_report\n",
        ")\n",
        "from sklearn.model_selection import StratifiedKFold, cross_val_score, cross_validate\n",
        "from google.colab import drive\n",
        "from sklearn.model_selection import LeaveOneOut, GridSearchCV\n",
        "\n",
        "drive.mount('/content/drive')"
      ]
    },
    {
      "cell_type": "code",
      "execution_count": null,
      "metadata": {
        "id": "PSAPwKuzyvZj"
      },
      "outputs": [],
      "source": [
        "def apply_global_signal_regression(timeseries: np.ndarray) -> np.ndarray:\n",
        "    global_signal = np.mean(timeseries, axis=1, keepdims=True)\n",
        "    return timeseries - global_signal\n",
        "\n",
        "def build_correlation_matrix(timeseries: np.ndarray) -> np.ndarray:\n",
        "    \"\"\"Compute correlation matrix while handling NaNs and checking constant regions.\"\"\"\n",
        "    timeseries = np.nan_to_num(timeseries, nan=0.0)\n",
        "    variances = np.var(timeseries, axis=0)\n",
        "    zero_var_regions = np.where(variances == 0)[0]\n",
        "    if len(zero_var_regions) > 0:\n",
        "        return None\n",
        "    corr_matrix = np.corrcoef(timeseries, rowvar=False)\n",
        "    return np.clip(np.nan_to_num(corr_matrix, nan=0.0, posinf=1.0, neginf=-1.0), -1.0, 1.0)\n",
        "\n",
        "def flatten_upper_triangle(corr_matrix: np.ndarray) -> np.ndarray:\n",
        "    \"\"\"Extract the upper triangle (excluding diagonal) as a feature vector.\"\"\"\n",
        "    triu_indices = np.triu_indices(corr_matrix.shape[0], k=1)\n",
        "    return corr_matrix[triu_indices]\n",
        "\n",
        "def load_timeseries_data(ad_dir, cn_dir):\n",
        "    ad_files = sorted(glob.glob(os.path.join(ad_dir, \"*.txt\")))\n",
        "    cn_files = sorted(glob.glob(os.path.join(cn_dir, \"*.txt\")))\n",
        "\n",
        "    X, y = [], []\n",
        "\n",
        "    for fpath in ad_files:\n",
        "        data_array = np.loadtxt(fpath)\n",
        "        data_array = apply_global_signal_regression(data_array)\n",
        "        corr_mat = build_correlation_matrix(data_array)\n",
        "\n",
        "        if corr_mat is not None:\n",
        "            X.append(flatten_upper_triangle(corr_mat))\n",
        "            y.append(1)\n",
        "\n",
        "    for fpath in cn_files:\n",
        "        data_array = np.loadtxt(fpath)\n",
        "        corr_mat = build_correlation_matrix(data_array)\n",
        "        if corr_mat is not None:\n",
        "            X.append(flatten_upper_triangle(corr_mat))\n",
        "            y.append(0)\n",
        "\n",
        "    return np.array(X), np.array(y)"
      ]
    },
    {
      "cell_type": "code",
      "execution_count": null,
      "metadata": {
        "id": "Rv82uJe-3ZRz"
      },
      "outputs": [],
      "source": [
        "def evaluate_model_with_cv(X, y, n_splits=5):\n",
        "    scaler = StandardScaler()\n",
        "    X_scaled = scaler.fit_transform(X)\n",
        "\n",
        "    svm = SVC(kernel=\"rbf\", C=1.0, gamma=\"scale\")\n",
        "\n",
        "    scoring = ['accuracy', 'precision', 'recall', 'f1']\n",
        "    skf = StratifiedKFold(n_splits=n_splits, shuffle=True, random_state=42)\n",
        "    scores = cross_validate(svm, X_scaled, y, cv=skf, scoring=scoring, return_train_score=False)\n",
        "\n",
        "    results = {metric: (np.mean(scores[f'test_{metric}']), np.std(scores[f'test_{metric}']))\n",
        "               for metric in scoring}\n",
        "\n",
        "    sensitivities = []\n",
        "    specificities = []\n",
        "\n",
        "    for train_idx, test_idx in skf.split(X_scaled, y):\n",
        "        svm.fit(X_scaled[train_idx], y[train_idx])\n",
        "        y_pred = svm.predict(X_scaled[test_idx])\n",
        "        cm = confusion_matrix(y[test_idx], y_pred)\n",
        "        tn, fp, fn, tp = cm.ravel() if cm.shape == (2, 2) else (0, 0, 0, 0)\n",
        "        sensitivity = tp / (tp + fn) if (tp + fn) > 0 else 0\n",
        "        specificity = tn / (tn + fp) if (tn + fp) > 0 else 0\n",
        "        sensitivities.append(sensitivity)\n",
        "        specificities.append(specificity)\n",
        "\n",
        "    results[\"Sensitivity\"] = (np.mean(sensitivities), np.std(sensitivities))\n",
        "    results[\"Specificity\"] = (np.mean(specificities), np.std(specificities))\n",
        "\n",
        "    return results\n",
        "\n",
        "def evaluate_with_loocv(X, y):\n",
        "    scaler = StandardScaler()\n",
        "    X_scaled = scaler.fit_transform(X)\n",
        "\n",
        "    svm = SVC(kernel=\"rbf\", C=1.0, gamma=\"scale\")\n",
        "    loo = LeaveOneOut()\n",
        "\n",
        "    y_true, y_pred = [], []\n",
        "    for train_idx, test_idx in loo.split(X_scaled, y):\n",
        "        svm.fit(X_scaled[train_idx], y[train_idx])\n",
        "        pred = svm.predict(X_scaled[test_idx])\n",
        "        y_true.append(y[test_idx][0])\n",
        "        y_pred.append(pred[0])\n",
        "\n",
        "    cm = confusion_matrix(y_true, y_pred)\n",
        "    tn, fp, fn, tp = cm.ravel() if cm.shape == (2, 2) else (0, 0, 0, 0)\n",
        "    sensitivity = tp / (tp + fn) if (tp + fn) > 0 else 0\n",
        "    specificity = tn / (tn + fp) if (tn + fp) > 0 else 0\n",
        "\n",
        "    results = {\n",
        "        \"accuracy\": (accuracy_score(y_true, y_pred), 0.0),\n",
        "        \"precision\": (precision_score(y_true, y_pred, zero_division=0), 0.0),\n",
        "        \"recall\": (recall_score(y_true, y_pred, zero_division=0), 0.0),\n",
        "        \"f1\": (f1_score(y_true, y_pred, zero_division=0), 0.0),\n",
        "        \"Sensitivity\": (sensitivity, 0.0),\n",
        "        \"Specificity\": (specificity, 0.0)\n",
        "    }\n",
        "    return results\n",
        "\n",
        "def evaluate_with_nested_cv(X, y, outer_folds=5, inner_folds=3):\n",
        "    scaler = StandardScaler()\n",
        "    X_scaled = scaler.fit_transform(X)\n",
        "\n",
        "    param_grid = {\n",
        "        'C': [0.1, 1.0, 10.0],\n",
        "        'gamma': ['scale', 0.1, 0.01]\n",
        "    }\n",
        "\n",
        "    outer_cv = StratifiedKFold(n_splits=outer_folds, shuffle=True, random_state=42)\n",
        "    inner_cv = StratifiedKFold(n_splits=inner_folds, shuffle=True, random_state=42)\n",
        "\n",
        "    accuracies, precisions, recalls, f1s, sensitivities, specificities = [], [], [], [], [], []\n",
        "\n",
        "    for train_idx, test_idx in outer_cv.split(X_scaled, y):\n",
        "        X_train, X_test = X_scaled[train_idx], X_scaled[test_idx]\n",
        "        y_train, y_test = y[train_idx], y[test_idx]\n",
        "\n",
        "        grid = GridSearchCV(SVC(kernel=\"rbf\"), param_grid, cv=inner_cv, scoring='accuracy')\n",
        "        grid.fit(X_train, y_train)\n",
        "\n",
        "        best_model = grid.best_estimator_\n",
        "        y_pred = best_model.predict(X_test)\n",
        "\n",
        "        accuracies.append(accuracy_score(y_test, y_pred))\n",
        "        precisions.append(precision_score(y_test, y_pred, zero_division=0))\n",
        "        recalls.append(recall_score(y_test, y_pred, zero_division=0))\n",
        "        f1s.append(f1_score(y_test, y_pred, zero_division=0))\n",
        "\n",
        "        cm = confusion_matrix(y_test, y_pred)\n",
        "        tn, fp, fn, tp = cm.ravel() if cm.shape == (2, 2) else (0, 0, 0, 0)\n",
        "        sens = tp / (tp + fn) if (tp + fn) > 0 else 0\n",
        "        spec = tn / (tn + fp) if (tn + fp) > 0 else 0\n",
        "        sensitivities.append(sens)\n",
        "        specificities.append(spec)\n",
        "\n",
        "    results = {\n",
        "        \"accuracy\": (np.mean(accuracies), np.std(accuracies)),\n",
        "        \"precision\": (np.mean(precisions), np.std(precisions)),\n",
        "        \"recall\": (np.mean(recalls), np.std(recalls)),\n",
        "        \"f1\": (np.mean(f1s), np.std(f1s)),\n",
        "        \"Sensitivity\": (np.mean(sensitivities), np.std(sensitivities)),\n",
        "        \"Specificity\": (np.mean(specificities), np.std(specificities))\n",
        "    }\n",
        "\n",
        "    return results"
      ]
    },
    {
      "cell_type": "code",
      "execution_count": null,
      "metadata": {
        "id": "48WNQssD3n08"
      },
      "outputs": [],
      "source": [
        "def print_formatted_results(results_dict):\n",
        "    print(\"\\nFinal SVM Classification Results:\")\n",
        "    print(\"------------------------------------------------------\")\n",
        "    print(f\"{'Metric':<20} {'Mean':<10} {'Std Dev'}\")\n",
        "    print(\"------------------------------------------------------\")\n",
        "    rename = {\n",
        "        \"accuracy\": \"Accuracy\",\n",
        "        \"precision\": \"Precision (AD)\",\n",
        "        \"recall\": \"Recall (AD)\",\n",
        "        \"f1\": \"F1-score (AD)\",\n",
        "        \"Sensitivity\": \"Sensitivity\",\n",
        "        \"Specificity\": \"Specificity\"\n",
        "    }\n",
        "    for metric, (mean, std) in results_dict.items():\n",
        "        label = rename.get(metric, metric)\n",
        "        print(f\"{label:<20} {mean:.2f} ± {std:.2f}\")\n",
        "    print(\"------------------------------------------------------\")"
      ]
    },
    {
      "cell_type": "markdown",
      "metadata": {
        "id": "eeEWimAg3tkQ"
      },
      "source": [
        "**5-Fold Cross-Validation**"
      ]
    },
    {
      "cell_type": "code",
      "execution_count": null,
      "metadata": {
        "colab": {
          "base_uri": "https://localhost:8080/"
        },
        "id": "H_R-jGHvzJA5",
        "outputId": "b84d045d-981a-487f-bf12-d50f1b6f2119"
      },
      "outputs": [
        {
          "name": "stdout",
          "output_type": "stream",
          "text": [
            "\n",
            "Final SVM Classification Results:\n",
            "------------------------------------------------------\n",
            "Metric               Mean       Std Dev\n",
            "------------------------------------------------------\n",
            "Accuracy             0.96 ± 0.08\n",
            "Precision (AD)       0.94 ± 0.11\n",
            "Recall (AD)          1.00 ± 0.00\n",
            "F1-score (AD)        0.97 ± 0.07\n",
            "Sensitivity          1.00 ± 0.00\n",
            "Specificity          0.92 ± 0.16\n",
            "------------------------------------------------------\n"
          ]
        }
      ],
      "source": [
        "## AAL90\n",
        "AD_DIR = \"/content/drive/MyDrive/FMRI/Exp1/Timeseries_AAL90/AD\"\n",
        "CN_DIR = \"/content/drive/MyDrive/FMRI/Exp1/Timeseries_AAL90/CN\"\n",
        "\n",
        "X, y = load_timeseries_data(AD_DIR, CN_DIR)\n",
        "results = evaluate_model_with_cv(X, y, n_splits=5)\n",
        "print_formatted_results(results)"
      ]
    },
    {
      "cell_type": "code",
      "execution_count": null,
      "metadata": {
        "colab": {
          "base_uri": "https://localhost:8080/"
        },
        "id": "_c5KM68CzPB6",
        "outputId": "40845c6a-ef15-42a9-82d1-f69097f3dea2"
      },
      "outputs": [
        {
          "name": "stdout",
          "output_type": "stream",
          "text": [
            "\n",
            "Final SVM Classification Results:\n",
            "------------------------------------------------------\n",
            "Metric               Mean       Std Dev\n",
            "------------------------------------------------------\n",
            "Accuracy             0.90 ± 0.11\n",
            "Precision (AD)       0.87 ± 0.12\n",
            "Recall (AD)          0.96 ± 0.08\n",
            "F1-score (AD)        0.91 ± 0.10\n",
            "Sensitivity          0.96 ± 0.08\n",
            "Specificity          0.84 ± 0.15\n",
            "------------------------------------------------------\n"
          ]
        }
      ],
      "source": [
        "## Schaefer200\n",
        "AD_DIR = \"/content/drive/MyDrive/FMRI/Exp1/Timeseries_Schaefer200/AD\"\n",
        "CN_DIR = \"/content/drive/MyDrive/FMRI/Exp1/Timeseries_Schaefer200/CN\"\n",
        "X, y = load_timeseries_data(AD_DIR, CN_DIR)\n",
        "results = evaluate_model_with_cv(X, y, n_splits=5)\n",
        "print_formatted_results(results)"
      ]
    },
    {
      "cell_type": "markdown",
      "metadata": {
        "id": "wrtQORFC39if"
      },
      "source": [
        "**Leave-One-Out Cross-Validation (LOOCV)**"
      ]
    },
    {
      "cell_type": "code",
      "execution_count": null,
      "metadata": {
        "colab": {
          "base_uri": "https://localhost:8080/"
        },
        "id": "cBXWOQlp36gj",
        "outputId": "cf716517-8922-4265-881c-2bcc1b36ac5a"
      },
      "outputs": [
        {
          "name": "stdout",
          "output_type": "stream",
          "text": [
            "\n",
            "Final SVM Classification Results:\n",
            "------------------------------------------------------\n",
            "Metric               Mean       Std Dev\n",
            "------------------------------------------------------\n",
            "Accuracy             0.96 ± 0.00\n",
            "Precision (AD)       0.93 ± 0.00\n",
            "Recall (AD)          1.00 ± 0.00\n",
            "F1-score (AD)        0.96 ± 0.00\n",
            "Sensitivity          1.00 ± 0.00\n",
            "Specificity          0.92 ± 0.00\n",
            "------------------------------------------------------\n"
          ]
        }
      ],
      "source": [
        "## AAL90\n",
        "AD_DIR = \"/content/drive/MyDrive/FMRI/Exp1/Timeseries_AAL90/AD\"\n",
        "CN_DIR = \"/content/drive/MyDrive/FMRI/Exp1/Timeseries_AAL90/CN\"\n",
        "\n",
        "X, y = load_timeseries_data(AD_DIR, CN_DIR)\n",
        "results_loocv = evaluate_with_loocv(X, y)\n",
        "print_formatted_results(results_loocv)"
      ]
    },
    {
      "cell_type": "code",
      "execution_count": null,
      "metadata": {
        "colab": {
          "base_uri": "https://localhost:8080/"
        },
        "id": "qWvxkhKj4D7y",
        "outputId": "c2a5a8fb-071d-4dfe-b1b1-740a56b847bb"
      },
      "outputs": [
        {
          "name": "stdout",
          "output_type": "stream",
          "text": [
            "\n",
            "Final SVM Classification Results:\n",
            "------------------------------------------------------\n",
            "Metric               Mean       Std Dev\n",
            "------------------------------------------------------\n",
            "Accuracy             0.88 ± 0.00\n",
            "Precision (AD)       0.83 ± 0.00\n",
            "Recall (AD)          0.96 ± 0.00\n",
            "F1-score (AD)        0.89 ± 0.00\n",
            "Sensitivity          0.96 ± 0.00\n",
            "Specificity          0.80 ± 0.00\n",
            "------------------------------------------------------\n"
          ]
        }
      ],
      "source": [
        "## Schaefer200\n",
        "AD_DIR = \"/content/drive/MyDrive/FMRI/Exp1/Timeseries_Schaefer200/AD\"\n",
        "CN_DIR = \"/content/drive/MyDrive/FMRI/Exp1/Timeseries_Schaefer200/CN\"\n",
        "X, y = load_timeseries_data(AD_DIR, CN_DIR)\n",
        "results_loocv = evaluate_with_loocv(X, y)\n",
        "print_formatted_results(results_loocv)"
      ]
    }
  ],
  "metadata": {
    "colab": {
      "provenance": []
    },
    "kernelspec": {
      "display_name": "Python 3",
      "name": "python3"
    },
    "language_info": {
      "name": "python"
    }
  },
  "nbformat": 4,
  "nbformat_minor": 0
}
